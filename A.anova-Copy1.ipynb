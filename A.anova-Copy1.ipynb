{
 "cells": [
  {
   "cell_type": "markdown",
   "metadata": {},
   "source": [
    "# A. ANOVA and other stat\n",
    "Author: Shanshan Yang, Bioinformatics Core, ASU \n",
    "Time: Dec 11, 2017"
   ]
  },
  {
   "cell_type": "code",
   "execution_count": 1,
   "metadata": {
    "collapsed": true
   },
   "outputs": [],
   "source": [
    "import pandas as pd\n",
    "%matplotlib inline\n",
    "import matplotlib.pyplot as plt"
   ]
  },
  {
   "cell_type": "code",
   "execution_count": 2,
   "metadata": {
    "collapsed": true
   },
   "outputs": [],
   "source": [
    "datafile=\"A.anova.csv\"\n",
    "data=pd.read_csv(datafile)"
   ]
  },
  {
   "cell_type": "code",
   "execution_count": 4,
   "metadata": {},
   "outputs": [
    {
     "data": {
      "text/html": [
       "<div>\n",
       "<style>\n",
       "    .dataframe thead tr:only-child th {\n",
       "        text-align: right;\n",
       "    }\n",
       "\n",
       "    .dataframe thead th {\n",
       "        text-align: left;\n",
       "    }\n",
       "\n",
       "    .dataframe tbody tr th {\n",
       "        vertical-align: top;\n",
       "    }\n",
       "</style>\n",
       "<table border=\"1\" class=\"dataframe\">\n",
       "  <thead>\n",
       "    <tr style=\"text-align: right;\">\n",
       "      <th></th>\n",
       "      <th>cellline</th>\n",
       "      <th>Phenotype</th>\n",
       "      <th>mutation_type</th>\n",
       "    </tr>\n",
       "  </thead>\n",
       "  <tbody>\n",
       "    <tr>\n",
       "      <th>0</th>\n",
       "      <td>cellline1</td>\n",
       "      <td>1.006932</td>\n",
       "      <td>2</td>\n",
       "    </tr>\n",
       "    <tr>\n",
       "      <th>1</th>\n",
       "      <td>cellline2</td>\n",
       "      <td>1.127197</td>\n",
       "      <td>2</td>\n",
       "    </tr>\n",
       "    <tr>\n",
       "      <th>2</th>\n",
       "      <td>cellline3</td>\n",
       "      <td>8.203515</td>\n",
       "      <td>2</td>\n",
       "    </tr>\n",
       "    <tr>\n",
       "      <th>3</th>\n",
       "      <td>cellline4</td>\n",
       "      <td>8.871560</td>\n",
       "      <td>2</td>\n",
       "    </tr>\n",
       "    <tr>\n",
       "      <th>4</th>\n",
       "      <td>cellline5</td>\n",
       "      <td>9.141132</td>\n",
       "      <td>1</td>\n",
       "    </tr>\n",
       "    <tr>\n",
       "      <th>5</th>\n",
       "      <td>cellline6</td>\n",
       "      <td>9.571941</td>\n",
       "      <td>2</td>\n",
       "    </tr>\n",
       "    <tr>\n",
       "      <th>6</th>\n",
       "      <td>cellline7</td>\n",
       "      <td>10.964782</td>\n",
       "      <td>2</td>\n",
       "    </tr>\n",
       "    <tr>\n",
       "      <th>7</th>\n",
       "      <td>cellline8</td>\n",
       "      <td>35.892193</td>\n",
       "      <td>2</td>\n",
       "    </tr>\n",
       "    <tr>\n",
       "      <th>8</th>\n",
       "      <td>cellline9</td>\n",
       "      <td>41.879357</td>\n",
       "      <td>0</td>\n",
       "    </tr>\n",
       "    <tr>\n",
       "      <th>9</th>\n",
       "      <td>cellline10</td>\n",
       "      <td>44.055486</td>\n",
       "      <td>2</td>\n",
       "    </tr>\n",
       "    <tr>\n",
       "      <th>10</th>\n",
       "      <td>cellline11</td>\n",
       "      <td>49.090788</td>\n",
       "      <td>2</td>\n",
       "    </tr>\n",
       "    <tr>\n",
       "      <th>11</th>\n",
       "      <td>cellline12</td>\n",
       "      <td>63.386971</td>\n",
       "      <td>1</td>\n",
       "    </tr>\n",
       "    <tr>\n",
       "      <th>12</th>\n",
       "      <td>cellline13</td>\n",
       "      <td>75.683290</td>\n",
       "      <td>2</td>\n",
       "    </tr>\n",
       "    <tr>\n",
       "      <th>13</th>\n",
       "      <td>cellline14</td>\n",
       "      <td>102.801630</td>\n",
       "      <td>2</td>\n",
       "    </tr>\n",
       "    <tr>\n",
       "      <th>14</th>\n",
       "      <td>cellline15</td>\n",
       "      <td>105.925373</td>\n",
       "      <td>0</td>\n",
       "    </tr>\n",
       "    <tr>\n",
       "      <th>15</th>\n",
       "      <td>cellline16</td>\n",
       "      <td>110.407862</td>\n",
       "      <td>2</td>\n",
       "    </tr>\n",
       "    <tr>\n",
       "      <th>16</th>\n",
       "      <td>cellline17</td>\n",
       "      <td>248.313311</td>\n",
       "      <td>1</td>\n",
       "    </tr>\n",
       "    <tr>\n",
       "      <th>17</th>\n",
       "      <td>cellline18</td>\n",
       "      <td>281.190083</td>\n",
       "      <td>0</td>\n",
       "    </tr>\n",
       "    <tr>\n",
       "      <th>18</th>\n",
       "      <td>cellline19</td>\n",
       "      <td>290.402265</td>\n",
       "      <td>0</td>\n",
       "    </tr>\n",
       "  </tbody>\n",
       "</table>\n",
       "</div>"
      ],
      "text/plain": [
       "      cellline   Phenotype  mutation_type\n",
       "0    cellline1    1.006932              2\n",
       "1    cellline2    1.127197              2\n",
       "2    cellline3    8.203515              2\n",
       "3    cellline4    8.871560              2\n",
       "4    cellline5    9.141132              1\n",
       "5    cellline6    9.571941              2\n",
       "6    cellline7   10.964782              2\n",
       "7    cellline8   35.892193              2\n",
       "8    cellline9   41.879357              0\n",
       "9   cellline10   44.055486              2\n",
       "10  cellline11   49.090788              2\n",
       "11  cellline12   63.386971              1\n",
       "12  cellline13   75.683290              2\n",
       "13  cellline14  102.801630              2\n",
       "14  cellline15  105.925373              0\n",
       "15  cellline16  110.407862              2\n",
       "16  cellline17  248.313311              1\n",
       "17  cellline18  281.190083              0\n",
       "18  cellline19  290.402265              0"
      ]
     },
     "execution_count": 4,
     "metadata": {},
     "output_type": "execute_result"
    }
   ],
   "source": [
    "data.head()\n",
    "data"
   ]
  },
  {
   "cell_type": "markdown",
   "metadata": {},
   "source": [
    "# change column data type"
   ]
  },
  {
   "cell_type": "code",
   "execution_count": 3,
   "metadata": {},
   "outputs": [
    {
     "name": "stdout",
     "output_type": "stream",
     "text": [
      "<class 'pandas.core.frame.DataFrame'>\n",
      "RangeIndex: 19 entries, 0 to 18\n",
      "Data columns (total 3 columns):\n",
      "cellline         19 non-null object\n",
      "Phenotype        19 non-null float64\n",
      "mutation_type    19 non-null int64\n",
      "dtypes: float64(1), int64(1), object(1)\n",
      "memory usage: 528.0+ bytes\n"
     ]
    }
   ],
   "source": [
    "data.info()"
   ]
  },
  {
   "cell_type": "code",
   "execution_count": 5,
   "metadata": {
    "collapsed": true
   },
   "outputs": [],
   "source": [
    "data['mutation_type']=data['mutation_type'].astype('category')"
   ]
  },
  {
   "cell_type": "code",
   "execution_count": 6,
   "metadata": {},
   "outputs": [
    {
     "name": "stdout",
     "output_type": "stream",
     "text": [
      "<class 'pandas.core.frame.DataFrame'>\n",
      "RangeIndex: 19 entries, 0 to 18\n",
      "Data columns (total 3 columns):\n",
      "cellline         19 non-null object\n",
      "Phenotype        19 non-null float64\n",
      "mutation_type    19 non-null category\n",
      "dtypes: category(1), float64(1), object(1)\n",
      "memory usage: 499.0+ bytes\n"
     ]
    }
   ],
   "source": [
    "data.info()"
   ]
  },
  {
   "cell_type": "markdown",
   "metadata": {},
   "source": [
    "# create a boxplot "
   ]
  },
  {
   "cell_type": "code",
   "execution_count": 7,
   "metadata": {},
   "outputs": [
    {
     "data": {
      "text/plain": [
       "<matplotlib.axes._subplots.AxesSubplot at 0x111952550>"
      ]
     },
     "execution_count": 7,
     "metadata": {},
     "output_type": "execute_result"
    },
    {
     "data": {
      "image/png": "[encoded data removed]",
      "text/plain": [
       "<matplotlib.figure.Figure at 0x1089ea250>"
      ]
     },
     "metadata": {},
     "output_type": "display_data"
    }
   ],
   "source": [
    "data.boxplot('Phenotype',by='mutation_type')"
   ]
  },
  {
   "cell_type": "markdown",
   "metadata": {},
   "source": [
    "# ANOVA"
   ]
  },
  {
   "cell_type": "code",
   "execution_count": 6,
   "metadata": {
    "collapsed": true
   },
   "outputs": [],
   "source": [
    "wildtype = data['Phenotype'][data['mutation_type'] == 0]\n",
    "stop = data['Phenotype'][data['mutation_type'] == 1]\n",
    "mutation = data['Phenotype'][data['mutation_type'] == 2]\n",
    "#print wildtype"
   ]
  },
  {
   "cell_type": "code",
   "execution_count": 7,
   "metadata": {},
   "outputs": [
    {
     "name": "stdout",
     "output_type": "stream",
     "text": [
      "ANOVA P-value for p53 mutation 0.0173000919169\n"
     ]
    }
   ],
   "source": [
    "from scipy import stats\n",
    " \n",
    "F, p = stats.f_oneway(wildtype,stop,mutation)\n",
    "print \"ANOVA P-value for p53 mutation\", p"
   ]
  },
  {
   "cell_type": "markdown",
   "metadata": {},
   "source": [
    "# Tukey's range test (multiple means comparison)\n",
    "Tukey's range test, also known as the Tukey's test, Tukey method, Tukey's honest significance test, Tukey's HSD (honest significant difference) test, is a single-step multiple comparison procedure and statistical test. It can be used on raw data or in conjunction with an ANOVA (post-hoc analysis) to find means that are significantly different from each other."
   ]
  },
  {
   "cell_type": "code",
   "execution_count": 8,
   "metadata": {
    "collapsed": true
   },
   "outputs": [],
   "source": [
    "from statsmodels.stats.multicomp import pairwise_tukeyhsd\n",
    "from statsmodels.stats.multicomp import MultiComparison"
   ]
  },
  {
   "cell_type": "code",
   "execution_count": 9,
   "metadata": {},
   "outputs": [
    {
     "name": "stdout",
     "output_type": "stream",
     "text": [
      "Multiple Comparison of Means - Tukey HSD,FWER=0.05\n",
      "=================================================\n",
      "group1 group2  meandiff   lower    upper   reject\n",
      "-------------------------------------------------\n",
      "  0      1     -72.9021 -225.0812  79.277  False \n",
      "  0      2    -141.7095 -256.7461 -26.6729  True \n",
      "  1      2     -68.8074 -197.4222 59.8074  False \n",
      "-------------------------------------------------\n"
     ]
    }
   ],
   "source": [
    "mc=MultiComparison(data['Phenotype'],data['mutation_type'])\n",
    "Tukey_result=mc.tukeyhsd()\n",
    "print Tukey_result"
   ]
  },
  {
   "cell_type": "markdown",
   "metadata": {},
   "source": [
    "# OLS\n",
    "Linear models allows estimation by ordinary least squares (OLS).\n"
   ]
  },
  {
   "cell_type": "code",
   "execution_count": 10,
   "metadata": {},
   "outputs": [
    {
     "name": "stderr",
     "output_type": "stream",
     "text": [
      "/Users/shanshanyang/anaconda/envs/gl-env/lib/python2.7/site-packages/statsmodels/compat/pandas.py:56: FutureWarning: The pandas.core.datetools module is deprecated and will be removed in a future version. Please use the pandas.tseries module instead.\n",
      "  from pandas.core import datetools\n"
     ]
    },
    {
     "name": "stdout",
     "output_type": "stream",
     "text": [
      "                     sum_sq    df         F  PR(>F)\n",
      "mutation_type  63059.633366   2.0  5.284155  0.0173\n",
      "Residual       95469.770093  16.0       NaN     NaN\n",
      "                            OLS Regression Results                            \n",
      "==============================================================================\n",
      "Dep. Variable:              Phenotype   R-squared:                       0.398\n",
      "Model:                            OLS   Adj. R-squared:                  0.323\n",
      "Method:                 Least Squares   F-statistic:                     5.284\n",
      "Date:                Wed, 13 Dec 2017   Prob (F-statistic):             0.0173\n",
      "Time:                        14:23:17   Log-Likelihood:                -107.92\n",
      "No. Observations:                  19   AIC:                             221.8\n",
      "Df Residuals:                      16   BIC:                             224.7\n",
      "Df Model:                           2                                         \n",
      "Covariance Type:            nonrobust                                         \n",
      "======================================================================================\n",
      "                         coef    std err          t      P>|t|      [0.025      0.975]\n",
      "--------------------------------------------------------------------------------------\n",
      "Intercept            179.8493     38.623      4.657      0.000      97.973     261.726\n",
      "mutation_type[T.1]   -72.9021     58.997     -1.236      0.234    -197.971      52.166\n",
      "mutation_type[T.2]  -141.7095     44.598     -3.178      0.006    -236.252     -47.167\n",
      "==============================================================================\n",
      "Omnibus:                        0.302   Durbin-Watson:                   1.117\n",
      "Prob(Omnibus):                  0.860   Jarque-Bera (JB):                0.399\n",
      "Skew:                           0.247   Prob(JB):                        0.819\n",
      "Kurtosis:                       2.491   Cond. No.                         5.09\n",
      "==============================================================================\n",
      "\n",
      "Warnings:\n",
      "[1] Standard Errors assume that the covariance matrix of the errors is correctly specified.\n"
     ]
    },
    {
     "name": "stderr",
     "output_type": "stream",
     "text": [
      "/Users/shanshanyang/anaconda/envs/gl-env/lib/python2.7/site-packages/scipy/stats/stats.py:1334: UserWarning: kurtosistest only valid for n>=20 ... continuing anyway, n=19\n",
      "  \"anyway, n=%i\" % int(n))\n"
     ]
    }
   ],
   "source": [
    "import statsmodels.api as sm\n",
    "from statsmodels.formula.api import ols\n",
    " \n",
    "mod = ols('Phenotype ~ mutation_type',\n",
    "                data=data).fit()\n",
    "                \n",
    "aov_table = sm.stats.anova_lm(mod, typ=2)\n",
    "print aov_table\n",
    "print mod.summary()"
   ]
  },
  {
   "cell_type": "markdown",
   "metadata": {},
   "source": [
    "# T-test"
   ]
  },
  {
   "cell_type": "code",
   "execution_count": 15,
   "metadata": {},
   "outputs": [
    {
     "name": "stdout",
     "output_type": "stream",
     "text": [
      "t-test p-value for tumor subtype 0.48455905737\n"
     ]
    }
   ],
   "source": [
    "from scipy.stats import ttest_ind, ttest_ind_from_stats\n",
    "t,p=ttest_ind(wildtype,stop, equal_var=False)\n",
    "print 't-test p-value for tumor subtype',p"
   ]
  },
  {
   "cell_type": "code",
   "execution_count": 16,
   "metadata": {},
   "outputs": [
    {
     "name": "stdout",
     "output_type": "stream",
     "text": [
      "t-test p-value for tumor subtype 0.106616090795\n"
     ]
    }
   ],
   "source": [
    "from scipy.stats import ttest_ind, ttest_ind_from_stats\n",
    "t,p=ttest_ind(wildtype,mutation, equal_var=False)\n",
    "print 't-test p-value for tumor subtype',p"
   ]
  },
  {
   "cell_type": "markdown",
   "metadata": {},
   "source": []
  },
  {
   "cell_type": "code",
   "execution_count": null,
   "metadata": {
    "collapsed": true
   },
   "outputs": [],
   "source": []
  }
 ],
 "metadata": {
  "kernelspec": {
   "display_name": "Python 2",
   "language": "python",
   "name": "python2"
  },
  "language_info": {
   "codemirror_mode": {
    "name": "ipython",
    "version": 2
   },
   "file_extension": ".py",
   "mimetype": "text/x-python",
   "name": "python",
   "nbconvert_exporter": "python",
   "pygments_lexer": "ipython2",
   "version": "2.7.13"
  }
 },
 "nbformat": 4,
 "nbformat_minor": 1
}
